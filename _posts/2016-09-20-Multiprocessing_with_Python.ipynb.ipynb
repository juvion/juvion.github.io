{
 "cells": [
  {
   "cell_type": "markdown",
   "metadata": {
    "collapsed": true
   },
   "source": [
    "---  \n",
    "layout: post  \n",
    "title:  \"Multiprocessing with Python.\"  \n",
    "date:   2016-09-20  \n",
    "---    "
   ]
  },
  {
   "cell_type": "markdown",
   "metadata": {},
   "source": [
    "So put all together, following is the full code. Note that iPython is not able to call multiple CPUs, and it has to run in terminal. Save the code as `test_counts.py` in your working directory, and put `samplesTests.csv` in the same folder with the code, then run \n",
    "`python test_counts.py`"
   ]
  },
  {
   "cell_type": "code",
   "execution_count": null,
   "metadata": {
    "collapsed": true
   },
   "outputs": [],
   "source": [
    "import multiprocessing\n",
    "import pandas as pd\n",
    "\n",
    "# read in the data\n",
    "dfTest = pd.read_csv(\"./samplesTests.csv\")\n",
    "test_counts = {}\n",
    "\n",
    "samples = dfTest['sampleID'].unique()\n",
    "\n",
    "def test_counter(sample):\n",
    "    dfTest_ = dfTest[dfTest['sampleID'] == sample]\n",
    "    test_count = dfTest_.shape[0]\n",
    "    test_counts[sample] = test_count\n",
    "    return test_counts\n",
    "\n",
    "def mp_handler():\n",
    "    results = {}\n",
    "    p = multiprocessing.Pool()\n",
    "    result_L = p.map(test_counter, samples)\n",
    "    for d in result_L:\n",
    "        results.update(d)\n",
    "\n",
    "    for k, v in results.iteritems():\n",
    "        print k, v\n",
    "\n",
    "if __name__ == '__main__':\n",
    "    mp_handler()"
   ]
  },
  {
   "cell_type": "code",
   "execution_count": null,
   "metadata": {
    "collapsed": true
   },
   "outputs": [],
   "source": [
    ""
   ]
  },
  {
   "cell_type": "code",
   "execution_count": null,
   "outputs": [],
   "source": [
    ""
   ]
  }
 ],
 "metadata": {
  "kernelspec": {
   "display_name": "Python 2",
   "language": "python",
   "name": "python2"
  },
  "language_info": {
   "codemirror_mode": {
    "name": "ipython",
    "version": 2.0
   },
   "file_extension": ".py",
   "mimetype": "text/x-python",
   "name": "python",
   "nbconvert_exporter": "python",
   "pygments_lexer": "ipython2",
   "version": "2.7.12"
  }
 },
 "nbformat": 4,
 "nbformat_minor": 0
}