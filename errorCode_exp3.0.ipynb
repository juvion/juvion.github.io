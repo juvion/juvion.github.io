{
 "cells": [
  {
   "cell_type": "markdown",
   "metadata": {},
   "source": [
    "---\n",
    "### **`Date: 2016/08/15`**\n",
    "Experiment 3.0: Build program to fetch error code based on ticket history\n",
    "---\n",
    "title: experiment 3.0\n",
    "author: Xiaoju (Ju) Zhang\n",
    "**create: 2016/08/15**\n",
    "\n",
    "\n",
    "### Working Directory\n",
    "C:\\cygwin64\\home\\zhangxx80\\Work\\Projects\\errorCode\\analysis\\exp3.0\n",
    "\n",
    "### Objective\n",
    "The program is to create a database that contains history of error codes frequencies based on ticket receive date. With this database, it is possible to create a vector of error code frequency vector to find the similar instruments in long run.   \n",
    "\n",
    "### Material and Methods"
   ]
  },
  {
   "cell_type": "markdown",
   "metadata": {},
   "source": [
    "#### 1.  Build database of replicate counts\n",
    "a. Download a whole year of result data from IDA (`result_cc_c_ReplicaidID_2015-07-13_2016-08-17.csv`) using jmp (`result_cc_c_replicateID_2015-07-13_2016-08-17.jsl`)\n",
    "b. Since the dataset `result_cc_c_ReplicaidID_2015-07-13_2016-08-17.csv` is 44.4G, disolving the dataset into pieces based on instrument is necessary. Get list of all instruments and use python script to process the dataset. \n",
    "\n",
    "``` bash   \n",
    "#Bash awk command to get the distinct instruments list\n",
    "awk -F ',' '{ if (!x[$3]++) { print $3 } }' result_cc_c_ReplicaidID_2015-07-13_2016-08-17.csv > all_instruments.txt\n",
    "```"
   ]
  },
  {
   "cell_type": "markdown",
   "metadata": {},
   "source": [
    "#### 2. Parallel computing  \n",
    "input: `messages_C16_2015-08-10_2015-09-10.csv`  "
   ]
  },
  {
   "cell_type": "code",
   "execution_count": null,
   "metadata": {
    "collapsed": true
   },
   "outputs": [],
   "source": [
    "#parallel computing.\n",
    "import multiprocessing\n",
    "import pandas as pd\n",
    "\n",
    "\n",
    "dfMessage = pd.read_csv(\"./parallel/messages_C16_2015-08-10_2015-09-10.csv\")\n",
    "test_counts = {}\n",
    "\n",
    "instruments = dfMessage['MODULESNDRM'].unique()\n",
    "\n",
    "def test_counter(instrument):\n",
    "    dfMessage_ = dfMessage[dfMessage['MODULESNDRM'] == instrument]\n",
    "    test_count = dfMessage_.shape[0]\n",
    "    test_counts[instrument] = test_count\n",
    "    # print(\"{0}\\t{1}\".format(instrument, test_count))\n",
    "    return test_counts\n",
    "\n",
    "def mp_handler():\n",
    "    results = {}\n",
    "    p = multiprocessing.Pool()\n",
    "    result_L = p.map(test_counter, instruments)\n",
    "    for d in result_L:\n",
    "        results.update(d)\n",
    "\n",
    "    for k, v in results.iteritems():\n",
    "        print k, v\n",
    "\n",
    "if __name__ == '__main__':\n",
    "    mp_handler()"
   ]
  },
  {
   "cell_type": "markdown",
   "metadata": {
    "collapsed": true
   },
   "source": [
    "output\n",
    "```\n",
    "C1692029 116\n",
    "C1692020 115\n",
    "C1692026 103\n",
    "C1692024 171\n",
    "C1600121 1814\n",
    "C1600649 1063\n",
    "C1600123 375\n",
    "C1600122 451\n",
    "C1600125 312\n",
    "C1600127 1046\n",
    "C1600640 300\n",
    "...\n",
    "```"
   ]
  },
  {
   "cell_type": "markdown",
   "metadata": {
    "collapsed": true
   },
   "source": [
    "#### 3. Timestamp comparison"
   ]
  },
  {
   "cell_type": "code",
   "execution_count": 4,
   "metadata": {
    "collapsed": true
   },
   "outputs": [],
   "source": [
    "import multiprocessing\n",
    "import pandas as pd\n",
    "import numpy as np"
   ]
  },
  {
   "cell_type": "code",
   "execution_count": 32,
   "metadata": {
    "collapsed": false
   },
   "outputs": [],
   "source": [
    "# dfMessage = pd.read_csv(\"./parallel/messages_2015-08-10_2015-09-10.csv\", dtype={'MESSAGECODE':object})\n",
    "ticket_fields = ['Serial Number', 'Receipt Date', 'Service Close Date', 'Completion Date', 'GSR Ticket Category']\n",
    "dfTicket  = pd.read_csv(\"./parallel/ticket_search_2015-08-10_2015-09-10.csv\", usecols=ticket_fields, parse_dates=['Receipt Date', 'Service Close Date', 'Completion Date'], \n",
    "    date_parser=lambda x: pd.to_datetime(x, format='%Y-%m-%d'))"
   ]
  },
  {
   "cell_type": "code",
   "execution_count": 33,
   "metadata": {
    "collapsed": false
   },
   "outputs": [
    {
     "data": {
      "text/html": [
       "<div>\n",
       "<table border=\"1\" class=\"dataframe\">\n",
       "  <thead>\n",
       "    <tr style=\"text-align: right;\">\n",
       "      <th></th>\n",
       "      <th>Serial Number</th>\n",
       "      <th>Receipt Date</th>\n",
       "      <th>Service Close Date</th>\n",
       "      <th>Completion Date</th>\n",
       "      <th>GSR Ticket Category</th>\n",
       "    </tr>\n",
       "  </thead>\n",
       "  <tbody>\n",
       "    <tr>\n",
       "      <th>0</th>\n",
       "      <td>C1600955</td>\n",
       "      <td>2015-09-10</td>\n",
       "      <td>2015-09-10</td>\n",
       "      <td>2015-12-18</td>\n",
       "      <td>Repair_CSC_PhoneFix</td>\n",
       "    </tr>\n",
       "    <tr>\n",
       "      <th>1</th>\n",
       "      <td>C400761</td>\n",
       "      <td>2015-09-10</td>\n",
       "      <td>2015-09-15</td>\n",
       "      <td>2015-09-25</td>\n",
       "      <td>Repair</td>\n",
       "    </tr>\n",
       "    <tr>\n",
       "      <th>2</th>\n",
       "      <td>C801212</td>\n",
       "      <td>2015-09-10</td>\n",
       "      <td>2015-09-10</td>\n",
       "      <td>2015-09-29</td>\n",
       "      <td>Repair</td>\n",
       "    </tr>\n",
       "    <tr>\n",
       "      <th>3</th>\n",
       "      <td>C400501</td>\n",
       "      <td>2015-09-10</td>\n",
       "      <td>2015-09-16</td>\n",
       "      <td>2015-11-18</td>\n",
       "      <td>Repair</td>\n",
       "    </tr>\n",
       "    <tr>\n",
       "      <th>4</th>\n",
       "      <td>C401377</td>\n",
       "      <td>2015-09-09</td>\n",
       "      <td>2015-10-01</td>\n",
       "      <td>2015-12-17</td>\n",
       "      <td>Repair_CSC_PhoneFix</td>\n",
       "    </tr>\n",
       "  </tbody>\n",
       "</table>\n",
       "</div>"
      ],
      "text/plain": [
       "  Serial Number Receipt Date Service Close Date Completion Date  \\\n",
       "0      C1600955   2015-09-10         2015-09-10      2015-12-18   \n",
       "1       C400761   2015-09-10         2015-09-15      2015-09-25   \n",
       "2       C801212   2015-09-10         2015-09-10      2015-09-29   \n",
       "3       C400501   2015-09-10         2015-09-16      2015-11-18   \n",
       "4       C401377   2015-09-09         2015-10-01      2015-12-17   \n",
       "\n",
       "   GSR Ticket Category  \n",
       "0  Repair_CSC_PhoneFix  \n",
       "1               Repair  \n",
       "2               Repair  \n",
       "3               Repair  \n",
       "4  Repair_CSC_PhoneFix  "
      ]
     },
     "execution_count": 33,
     "metadata": {},
     "output_type": "execute_result"
    }
   ],
   "source": [
    "dfTicket.head()"
   ]
  },
  {
   "cell_type": "code",
   "execution_count": 30,
   "metadata": {
    "collapsed": false
   },
   "outputs": [],
   "source": [
    "dfMessage = pd.read_csv('./parallel/messages_2015-08-10_2015-09-10.csv', dtype={'MESSAGECODE':object}, parse_dates=['COMPLETIONDATE'], \n",
    "    date_parser=lambda x: pd.to_datetime(x, format='%m/%d/%Y %I:%M:%S %p'))"
   ]
  },
  {
   "cell_type": "code",
   "execution_count": 34,
   "metadata": {
    "collapsed": false,
    "scrolled": true
   },
   "outputs": [
    {
     "data": {
      "text/html": [
       "<div>\n",
       "<table border=\"1\" class=\"dataframe\">\n",
       "  <thead>\n",
       "    <tr style=\"text-align: right;\">\n",
       "      <th></th>\n",
       "      <th>COMPLETIONDATE</th>\n",
       "      <th>MODULESNDRM</th>\n",
       "      <th>MESSAGECODE</th>\n",
       "    </tr>\n",
       "  </thead>\n",
       "  <tbody>\n",
       "    <tr>\n",
       "      <th>0</th>\n",
       "      <td>2015-08-10 01:15:57</td>\n",
       "      <td>C1600802</td>\n",
       "      <td>9096</td>\n",
       "    </tr>\n",
       "    <tr>\n",
       "      <th>1</th>\n",
       "      <td>2015-08-10 01:15:57</td>\n",
       "      <td>C1600802</td>\n",
       "      <td>0711</td>\n",
       "    </tr>\n",
       "    <tr>\n",
       "      <th>2</th>\n",
       "      <td>2015-08-10 01:16:03</td>\n",
       "      <td>C1600802</td>\n",
       "      <td>0550</td>\n",
       "    </tr>\n",
       "    <tr>\n",
       "      <th>3</th>\n",
       "      <td>2015-08-10 01:24:16</td>\n",
       "      <td>C1600802</td>\n",
       "      <td>9096</td>\n",
       "    </tr>\n",
       "    <tr>\n",
       "      <th>4</th>\n",
       "      <td>2015-08-10 01:24:16</td>\n",
       "      <td>C1600802</td>\n",
       "      <td>3375</td>\n",
       "    </tr>\n",
       "  </tbody>\n",
       "</table>\n",
       "</div>"
      ],
      "text/plain": [
       "       COMPLETIONDATE MODULESNDRM MESSAGECODE\n",
       "0 2015-08-10 01:15:57    C1600802        9096\n",
       "1 2015-08-10 01:15:57    C1600802        0711\n",
       "2 2015-08-10 01:16:03    C1600802        0550\n",
       "3 2015-08-10 01:24:16    C1600802        9096\n",
       "4 2015-08-10 01:24:16    C1600802        3375"
      ]
     },
     "execution_count": 34,
     "metadata": {},
     "output_type": "execute_result"
    }
   ],
   "source": [
    "dfMessage.head()"
   ]
  },
  {
   "cell_type": "code",
   "execution_count": 35,
   "metadata": {
    "collapsed": false
   },
   "outputs": [],
   "source": [
    "message_header = ['CompletionDate', 'SeriealNumber', 'ErrorCode']\n",
    "dfMessage.columns = message_header"
   ]
  },
  {
   "cell_type": "code",
   "execution_count": 36,
   "metadata": {
    "collapsed": false
   },
   "outputs": [
    {
     "data": {
      "text/html": [
       "<div>\n",
       "<table border=\"1\" class=\"dataframe\">\n",
       "  <thead>\n",
       "    <tr style=\"text-align: right;\">\n",
       "      <th></th>\n",
       "      <th>CompletionDate</th>\n",
       "      <th>SeriealNumber</th>\n",
       "      <th>ErrorCode</th>\n",
       "    </tr>\n",
       "  </thead>\n",
       "  <tbody>\n",
       "    <tr>\n",
       "      <th>0</th>\n",
       "      <td>2015-08-10 01:15:57</td>\n",
       "      <td>C1600802</td>\n",
       "      <td>9096</td>\n",
       "    </tr>\n",
       "    <tr>\n",
       "      <th>1</th>\n",
       "      <td>2015-08-10 01:15:57</td>\n",
       "      <td>C1600802</td>\n",
       "      <td>0711</td>\n",
       "    </tr>\n",
       "    <tr>\n",
       "      <th>2</th>\n",
       "      <td>2015-08-10 01:16:03</td>\n",
       "      <td>C1600802</td>\n",
       "      <td>0550</td>\n",
       "    </tr>\n",
       "    <tr>\n",
       "      <th>3</th>\n",
       "      <td>2015-08-10 01:24:16</td>\n",
       "      <td>C1600802</td>\n",
       "      <td>9096</td>\n",
       "    </tr>\n",
       "    <tr>\n",
       "      <th>4</th>\n",
       "      <td>2015-08-10 01:24:16</td>\n",
       "      <td>C1600802</td>\n",
       "      <td>3375</td>\n",
       "    </tr>\n",
       "  </tbody>\n",
       "</table>\n",
       "</div>"
      ],
      "text/plain": [
       "       CompletionDate SeriealNumber ErrorCode\n",
       "0 2015-08-10 01:15:57      C1600802      9096\n",
       "1 2015-08-10 01:15:57      C1600802      0711\n",
       "2 2015-08-10 01:16:03      C1600802      0550\n",
       "3 2015-08-10 01:24:16      C1600802      9096\n",
       "4 2015-08-10 01:24:16      C1600802      3375"
      ]
     },
     "execution_count": 36,
     "metadata": {},
     "output_type": "execute_result"
    }
   ],
   "source": [
    "dfMessage.head()"
   ]
  },
  {
   "cell_type": "code",
   "execution_count": 23,
   "metadata": {
    "collapsed": false
   },
   "outputs": [
    {
     "data": {
      "text/html": [
       "<div>\n",
       "<table border=\"1\" class=\"dataframe\">\n",
       "  <thead>\n",
       "    <tr style=\"text-align: right;\">\n",
       "      <th></th>\n",
       "      <th>SeriealNumber</th>\n",
       "      <th>ReceiptDate</th>\n",
       "      <th>ServiceCloseDate</th>\n",
       "      <th>CompletionDate</th>\n",
       "      <th>TicketCategory</th>\n",
       "    </tr>\n",
       "  </thead>\n",
       "  <tbody>\n",
       "    <tr>\n",
       "      <th>0</th>\n",
       "      <td>C1600955</td>\n",
       "      <td>2015-09-10</td>\n",
       "      <td>2015-09-10</td>\n",
       "      <td>2015-12-18</td>\n",
       "      <td>Repair_CSC_PhoneFix</td>\n",
       "    </tr>\n",
       "    <tr>\n",
       "      <th>1</th>\n",
       "      <td>C400761</td>\n",
       "      <td>2015-09-10</td>\n",
       "      <td>2015-09-15</td>\n",
       "      <td>2015-09-25</td>\n",
       "      <td>Repair</td>\n",
       "    </tr>\n",
       "    <tr>\n",
       "      <th>2</th>\n",
       "      <td>C801212</td>\n",
       "      <td>2015-09-10</td>\n",
       "      <td>2015-09-10</td>\n",
       "      <td>2015-09-29</td>\n",
       "      <td>Repair</td>\n",
       "    </tr>\n",
       "    <tr>\n",
       "      <th>3</th>\n",
       "      <td>C400501</td>\n",
       "      <td>2015-09-10</td>\n",
       "      <td>2015-09-16</td>\n",
       "      <td>2015-11-18</td>\n",
       "      <td>Repair</td>\n",
       "    </tr>\n",
       "    <tr>\n",
       "      <th>4</th>\n",
       "      <td>C401377</td>\n",
       "      <td>2015-09-09</td>\n",
       "      <td>2015-10-01</td>\n",
       "      <td>2015-12-17</td>\n",
       "      <td>Repair_CSC_PhoneFix</td>\n",
       "    </tr>\n",
       "  </tbody>\n",
       "</table>\n",
       "</div>"
      ],
      "text/plain": [
       "  SeriealNumber ReceiptDate ServiceCloseDate CompletionDate  \\\n",
       "0      C1600955  2015-09-10       2015-09-10     2015-12-18   \n",
       "1       C400761  2015-09-10       2015-09-15     2015-09-25   \n",
       "2       C801212  2015-09-10       2015-09-10     2015-09-29   \n",
       "3       C400501  2015-09-10       2015-09-16     2015-11-18   \n",
       "4       C401377  2015-09-09       2015-10-01     2015-12-17   \n",
       "\n",
       "        TicketCategory  \n",
       "0  Repair_CSC_PhoneFix  \n",
       "1               Repair  \n",
       "2               Repair  \n",
       "3               Repair  \n",
       "4  Repair_CSC_PhoneFix  "
      ]
     },
     "execution_count": 23,
     "metadata": {},
     "output_type": "execute_result"
    }
   ],
   "source": [
    "ticket_header = ['SeriealNumber', 'ReceiptDate', 'ServiceCloseDate', 'CompletionDate', 'TicketCategory']\n",
    "dfTicket.columns = ticket_header\n",
    "dfTicket.head()"
   ]
  },
  {
   "cell_type": "code",
   "execution_count": 54,
   "metadata": {
    "collapsed": false,
    "scrolled": true
   },
   "outputs": [
    {
     "data": {
      "text/plain": [
       "Timestamp('2015-08-10 01:15:57')"
      ]
     },
     "execution_count": 54,
     "metadata": {},
     "output_type": "execute_result"
    }
   ],
   "source": [
    "dfMessage.iloc[0]['CompletionDate']"
   ]
  },
  {
   "cell_type": "code",
   "execution_count": 56,
   "metadata": {
    "collapsed": false
   },
   "outputs": [
    {
     "data": {
      "text/plain": [
       "Timestamp('2015-09-10 00:00:00')"
      ]
     },
     "execution_count": 56,
     "metadata": {},
     "output_type": "execute_result"
    }
   ],
   "source": [
    "dfTicket.iloc[0]['Receipt Date']"
   ]
  },
  {
   "cell_type": "code",
   "execution_count": 57,
   "metadata": {
    "collapsed": false,
    "scrolled": false
   },
   "outputs": [
    {
     "data": {
      "text/plain": [
       "Timestamp('2015-08-10 01:15:57')"
      ]
     },
     "execution_count": 57,
     "metadata": {},
     "output_type": "execute_result"
    }
   ],
   "source": [
    "dfMessage.iloc[0]['CompletionDate']"
   ]
  },
  {
   "cell_type": "code",
   "execution_count": 74,
   "metadata": {
    "collapsed": false
   },
   "outputs": [
    {
     "data": {
      "text/plain": [
       "Timestamp('2015-08-10 01:15:57')"
      ]
     },
     "execution_count": 74,
     "metadata": {},
     "output_type": "execute_result"
    }
   ],
   "source": [
    "dfMessage.iloc[1]['CompletionDate']"
   ]
  },
  {
   "cell_type": "code",
   "execution_count": 77,
   "metadata": {
    "collapsed": false
   },
   "outputs": [
    {
     "data": {
      "text/plain": [
       "Timestamp('2015-09-04 01:15:57')"
      ]
     },
     "execution_count": 77,
     "metadata": {},
     "output_type": "execute_result"
    }
   ],
   "source": [
    "#adding delta days\n",
    "from datetime import timedelta\n",
    "dfMessage.iloc[0]['CompletionDate'] + timedelta(days=25)"
   ]
  },
  {
   "cell_type": "code",
   "execution_count": 55,
   "metadata": {
    "collapsed": false,
    "scrolled": false
   },
   "outputs": [
    {
     "data": {
      "text/plain": [
       "True"
      ]
     },
     "execution_count": 55,
     "metadata": {},
     "output_type": "execute_result"
    }
   ],
   "source": [
    "dfTicket.iloc[0]['Receipt Date'] > dfMessage.iloc[0]['CompletionDate']"
   ]
  },
  {
   "cell_type": "markdown",
   "metadata": {},
   "source": [
    "#### 4. Fetch result table and message table for a particluar time window."
   ]
  },
  {
   "cell_type": "code",
   "execution_count": null,
   "metadata": {
    "collapsed": true
   },
   "outputs": [],
   "source": []
  },
  {
   "cell_type": "code",
   "execution_count": null,
   "metadata": {
    "collapsed": true
   },
   "outputs": [],
   "source": []
  },
  {
   "cell_type": "code",
   "execution_count": null,
   "metadata": {
    "collapsed": true
   },
   "outputs": [],
   "source": []
  },
  {
   "cell_type": "code",
   "execution_count": null,
   "metadata": {
    "collapsed": true
   },
   "outputs": [],
   "source": []
  },
  {
   "cell_type": "code",
   "execution_count": null,
   "metadata": {
    "collapsed": true
   },
   "outputs": [],
   "source": []
  },
  {
   "cell_type": "code",
   "execution_count": 5,
   "metadata": {
    "collapsed": false
   },
   "outputs": [],
   "source": [
    "import pypyodbc"
   ]
  },
  {
   "cell_type": "code",
   "execution_count": 7,
   "metadata": {
    "collapsed": false
   },
   "outputs": [
    {
     "ename": "DatabaseError",
     "evalue": "(u'08001', u'[08001] [Microsoft][ODBC SQL Server Driver][DBNETLIB]SQL Server does not exist or access denied.')",
     "output_type": "error",
     "traceback": [
      "\u001b[1;31m---------------------------------------------------------------------------\u001b[0m",
      "\u001b[1;31mDatabaseError\u001b[0m                             Traceback (most recent call last)",
      "\u001b[1;32m<ipython-input-7-f35d95ff8fd7>\u001b[0m in \u001b[0;36m<module>\u001b[1;34m()\u001b[0m\n\u001b[1;32m----> 1\u001b[1;33m \u001b[0mconnection\u001b[0m \u001b[1;33m=\u001b[0m \u001b[0mpypyodbc\u001b[0m\u001b[1;33m.\u001b[0m\u001b[0mconnect\u001b[0m\u001b[1;33m(\u001b[0m\u001b[1;34m\"Driver={SQL Server};Server=DEDICATED;Database=pabbto;uid=zhangxx80;pwd=Ej0_1a2I\"\u001b[0m\u001b[1;33m)\u001b[0m\u001b[1;33m\u001b[0m\u001b[0m\n\u001b[0m",
      "\u001b[1;32mC:\\Anaconda2\\lib\\site-packages\\pypyodbc-1.3.3-py2.7.egg\\pypyodbc.pyc\u001b[0m in \u001b[0;36m__init__\u001b[1;34m(self, connectString, autocommit, ansi, timeout, unicode_results, readonly, **kargs)\u001b[0m\n\u001b[0;32m   2432\u001b[0m \u001b[1;33m\u001b[0m\u001b[0m\n\u001b[0;32m   2433\u001b[0m \u001b[1;33m\u001b[0m\u001b[0m\n\u001b[1;32m-> 2434\u001b[1;33m         \u001b[0mself\u001b[0m\u001b[1;33m.\u001b[0m\u001b[0mconnect\u001b[0m\u001b[1;33m(\u001b[0m\u001b[0mconnectString\u001b[0m\u001b[1;33m,\u001b[0m \u001b[0mautocommit\u001b[0m\u001b[1;33m,\u001b[0m \u001b[0mansi\u001b[0m\u001b[1;33m,\u001b[0m \u001b[0mtimeout\u001b[0m\u001b[1;33m,\u001b[0m \u001b[0municode_results\u001b[0m\u001b[1;33m,\u001b[0m \u001b[0mreadonly\u001b[0m\u001b[1;33m)\u001b[0m\u001b[1;33m\u001b[0m\u001b[0m\n\u001b[0m\u001b[0;32m   2435\u001b[0m \u001b[1;33m\u001b[0m\u001b[0m\n\u001b[0;32m   2436\u001b[0m     \u001b[1;32mdef\u001b[0m \u001b[0mset_connection_timeout\u001b[0m\u001b[1;33m(\u001b[0m\u001b[0mself\u001b[0m\u001b[1;33m,\u001b[0m\u001b[0mconnection_timeout\u001b[0m\u001b[1;33m)\u001b[0m\u001b[1;33m:\u001b[0m\u001b[1;33m\u001b[0m\u001b[0m\n",
      "\u001b[1;32mC:\\Anaconda2\\lib\\site-packages\\pypyodbc-1.3.3-py2.7.egg\\pypyodbc.pyc\u001b[0m in \u001b[0;36mconnect\u001b[1;34m(self, connectString, autocommit, ansi, timeout, unicode_results, readonly)\u001b[0m\n\u001b[0;32m   2481\u001b[0m         \u001b[1;32melse\u001b[0m\u001b[1;33m:\u001b[0m\u001b[1;33m\u001b[0m\u001b[0m\n\u001b[0;32m   2482\u001b[0m             \u001b[0mret\u001b[0m \u001b[1;33m=\u001b[0m \u001b[0modbc_func\u001b[0m\u001b[1;33m(\u001b[0m\u001b[0mself\u001b[0m\u001b[1;33m.\u001b[0m\u001b[0mdbc_h\u001b[0m\u001b[1;33m,\u001b[0m \u001b[1;36m0\u001b[0m\u001b[1;33m,\u001b[0m \u001b[0mc_connectString\u001b[0m\u001b[1;33m,\u001b[0m \u001b[0mlen\u001b[0m\u001b[1;33m(\u001b[0m\u001b[0mself\u001b[0m\u001b[1;33m.\u001b[0m\u001b[0mconnectString\u001b[0m\u001b[1;33m)\u001b[0m\u001b[1;33m,\u001b[0m \u001b[0mNone\u001b[0m\u001b[1;33m,\u001b[0m \u001b[1;36m0\u001b[0m\u001b[1;33m,\u001b[0m \u001b[0mNone\u001b[0m\u001b[1;33m,\u001b[0m \u001b[0mSQL_DRIVER_NOPROMPT\u001b[0m\u001b[1;33m)\u001b[0m\u001b[1;33m\u001b[0m\u001b[0m\n\u001b[1;32m-> 2483\u001b[1;33m         \u001b[0mcheck_success\u001b[0m\u001b[1;33m(\u001b[0m\u001b[0mself\u001b[0m\u001b[1;33m,\u001b[0m \u001b[0mret\u001b[0m\u001b[1;33m)\u001b[0m\u001b[1;33m\u001b[0m\u001b[0m\n\u001b[0m\u001b[0;32m   2484\u001b[0m \u001b[1;33m\u001b[0m\u001b[0m\n\u001b[0;32m   2485\u001b[0m \u001b[1;33m\u001b[0m\u001b[0m\n",
      "\u001b[1;32mC:\\Anaconda2\\lib\\site-packages\\pypyodbc-1.3.3-py2.7.egg\\pypyodbc.pyc\u001b[0m in \u001b[0;36mcheck_success\u001b[1;34m(ODBC_obj, ret)\u001b[0m\n\u001b[0;32m    986\u001b[0m             \u001b[0mctrl_err\u001b[0m\u001b[1;33m(\u001b[0m\u001b[0mSQL_HANDLE_STMT\u001b[0m\u001b[1;33m,\u001b[0m \u001b[0mODBC_obj\u001b[0m\u001b[1;33m.\u001b[0m\u001b[0mstmt_h\u001b[0m\u001b[1;33m,\u001b[0m \u001b[0mret\u001b[0m\u001b[1;33m,\u001b[0m \u001b[0mODBC_obj\u001b[0m\u001b[1;33m.\u001b[0m\u001b[0mansi\u001b[0m\u001b[1;33m)\u001b[0m\u001b[1;33m\u001b[0m\u001b[0m\n\u001b[0;32m    987\u001b[0m         \u001b[1;32melif\u001b[0m \u001b[0misinstance\u001b[0m\u001b[1;33m(\u001b[0m\u001b[0mODBC_obj\u001b[0m\u001b[1;33m,\u001b[0m \u001b[0mConnection\u001b[0m\u001b[1;33m)\u001b[0m\u001b[1;33m:\u001b[0m\u001b[1;33m\u001b[0m\u001b[0m\n\u001b[1;32m--> 988\u001b[1;33m             \u001b[0mctrl_err\u001b[0m\u001b[1;33m(\u001b[0m\u001b[0mSQL_HANDLE_DBC\u001b[0m\u001b[1;33m,\u001b[0m \u001b[0mODBC_obj\u001b[0m\u001b[1;33m.\u001b[0m\u001b[0mdbc_h\u001b[0m\u001b[1;33m,\u001b[0m \u001b[0mret\u001b[0m\u001b[1;33m,\u001b[0m \u001b[0mODBC_obj\u001b[0m\u001b[1;33m.\u001b[0m\u001b[0mansi\u001b[0m\u001b[1;33m)\u001b[0m\u001b[1;33m\u001b[0m\u001b[0m\n\u001b[0m\u001b[0;32m    989\u001b[0m         \u001b[1;32melse\u001b[0m\u001b[1;33m:\u001b[0m\u001b[1;33m\u001b[0m\u001b[0m\n\u001b[0;32m    990\u001b[0m             \u001b[0mctrl_err\u001b[0m\u001b[1;33m(\u001b[0m\u001b[0mSQL_HANDLE_ENV\u001b[0m\u001b[1;33m,\u001b[0m \u001b[0mODBC_obj\u001b[0m\u001b[1;33m,\u001b[0m \u001b[0mret\u001b[0m\u001b[1;33m,\u001b[0m \u001b[0mFalse\u001b[0m\u001b[1;33m)\u001b[0m\u001b[1;33m\u001b[0m\u001b[0m\n",
      "\u001b[1;32mC:\\Anaconda2\\lib\\site-packages\\pypyodbc-1.3.3-py2.7.egg\\pypyodbc.pyc\u001b[0m in \u001b[0;36mctrl_err\u001b[1;34m(ht, h, val_ret, ansi)\u001b[0m\n\u001b[0;32m    964\u001b[0m                 \u001b[1;32mraise\u001b[0m \u001b[0mError\u001b[0m\u001b[1;33m(\u001b[0m\u001b[0mstate\u001b[0m\u001b[1;33m,\u001b[0m\u001b[0merr_text\u001b[0m\u001b[1;33m)\u001b[0m\u001b[1;33m\u001b[0m\u001b[0m\n\u001b[0;32m    965\u001b[0m             \u001b[1;32melse\u001b[0m\u001b[1;33m:\u001b[0m\u001b[1;33m\u001b[0m\u001b[0m\n\u001b[1;32m--> 966\u001b[1;33m                 \u001b[1;32mraise\u001b[0m \u001b[0mDatabaseError\u001b[0m\u001b[1;33m(\u001b[0m\u001b[0mstate\u001b[0m\u001b[1;33m,\u001b[0m\u001b[0merr_text\u001b[0m\u001b[1;33m)\u001b[0m\u001b[1;33m\u001b[0m\u001b[0m\n\u001b[0m\u001b[0;32m    967\u001b[0m             \u001b[1;32mbreak\u001b[0m\u001b[1;33m\u001b[0m\u001b[0m\n\u001b[0;32m    968\u001b[0m         \u001b[1;32melif\u001b[0m \u001b[0mret\u001b[0m \u001b[1;33m==\u001b[0m \u001b[0mSQL_INVALID_HANDLE\u001b[0m\u001b[1;33m:\u001b[0m\u001b[1;33m\u001b[0m\u001b[0m\n",
      "\u001b[1;31mDatabaseError\u001b[0m: (u'08001', u'[08001] [Microsoft][ODBC SQL Server Driver][DBNETLIB]SQL Server does not exist or access denied.')"
     ]
    }
   ],
   "source": [
    "connection = pypyodbc.connect(\"Driver={SQL Server};Server=pabbto.oneabbott.com;Database=pabbto;uid=zhangxx80;pwd=Ej0_1a2I\")"
   ]
  },
  {
   "cell_type": "code",
   "execution_count": 17,
   "metadata": {
    "collapsed": true
   },
   "outputs": [],
   "source": [
    "import multiprocessing\n",
    "\n",
    "def worker():\n",
    "    \"\"\"worker function\"\"\"\n",
    "    print 'Worker'\n",
    "    return\n",
    "\n",
    "\n",
    "jobs = []\n",
    "for i in range(5):\n",
    "    p = multiprocessing.Process(target=worker)\n",
    "    jobs.append(p)\n",
    "    p.start()"
   ]
  },
  {
   "cell_type": "code",
   "execution_count": null,
   "metadata": {
    "collapsed": true
   },
   "outputs": [],
   "source": []
  },
  {
   "cell_type": "code",
   "execution_count": null,
   "metadata": {
    "collapsed": true
   },
   "outputs": [],
   "source": [
    "import multiprocessing\n",
    "import time\n",
    "\n",
    "data = (\n",
    "    ['a', '2'], ['b', '4'], ['c', '6'], ['d', '8'],\n",
    "    ['e', '1'], ['f', '3'], ['g', '5'], ['h', '7']\n",
    ")\n",
    "\n",
    "def mp_worker((inputs, the_time)):\n",
    "    print \" Processs %s\\tWaiting %s seconds\" % (inputs, the_time)\n",
    "    time.sleep(int(the_time))\n",
    "    print \" Process %s\\tDONE\" % inputs\n",
    "\n",
    "def mp_handler():\n",
    "    p = multiprocessing.Pool(2)\n",
    "    p.map(mp_worker, data)\n",
    "\n",
    "mp_handler()"
   ]
  },
  {
   "cell_type": "code",
   "execution_count": null,
   "metadata": {
    "collapsed": true
   },
   "outputs": [],
   "source": []
  },
  {
   "cell_type": "code",
   "execution_count": null,
   "metadata": {
    "collapsed": true
   },
   "outputs": [],
   "source": []
  },
  {
   "cell_type": "code",
   "execution_count": null,
   "metadata": {
    "collapsed": true
   },
   "outputs": [],
   "source": []
  },
  {
   "cell_type": "code",
   "execution_count": null,
   "metadata": {
    "collapsed": true
   },
   "outputs": [],
   "source": []
  },
  {
   "cell_type": "code",
   "execution_count": null,
   "metadata": {
    "collapsed": true
   },
   "outputs": [],
   "source": []
  },
  {
   "cell_type": "code",
   "execution_count": null,
   "metadata": {
    "collapsed": true
   },
   "outputs": [],
   "source": []
  }
 ],
 "metadata": {
  "kernelspec": {
   "display_name": "Python 2",
   "language": "python",
   "name": "python2"
  },
  "language_info": {
   "codemirror_mode": {
    "name": "ipython",
    "version": 2
   },
   "file_extension": ".py",
   "mimetype": "text/x-python",
   "name": "python",
   "nbconvert_exporter": "python",
   "pygments_lexer": "ipython2",
   "version": "2.7.11"
  }
 },
 "nbformat": 4,
 "nbformat_minor": 0
}
